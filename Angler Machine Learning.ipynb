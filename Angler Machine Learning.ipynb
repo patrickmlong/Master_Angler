{
 "cells": [
  {
   "cell_type": "markdown",
   "metadata": {},
   "source": [
    "## ## Angler Machine Learning\n"
   ]
  },
  {
   "cell_type": "markdown",
   "metadata": {},
   "source": [
    "* Goal: inspect methods for fishing sucess including geography, waterbody type,  methods, and bait.\n",
    "\n",
    "Data source: [data.michigan.gov](https://data.michigan.gov/dataset/Master-Angler-Database/mrpa-7cvr)"
   ]
  },
  {
   "cell_type": "code",
   "execution_count": 58,
   "metadata": {
    "collapsed": true
   },
   "outputs": [],
   "source": [
    "# Import packages\n",
    "import pandas as pd\n",
    "import matplotlib.pyplot as plt\n",
    "import numpy as np\n",
    "import seaborn as sns"
   ]
  },
  {
   "cell_type": "code",
   "execution_count": 59,
   "metadata": {
    "collapsed": true
   },
   "outputs": [],
   "source": [
    "# Import data\n",
    "df = pd.read_csv('Master_Angler_Database-3.csv')"
   ]
  },
  {
   "cell_type": "code",
   "execution_count": 60,
   "metadata": {},
   "outputs": [
    {
     "data": {
      "text/html": [
       "<div>\n",
       "<style>\n",
       "    .dataframe thead tr:only-child th {\n",
       "        text-align: right;\n",
       "    }\n",
       "\n",
       "    .dataframe thead th {\n",
       "        text-align: left;\n",
       "    }\n",
       "\n",
       "    .dataframe tbody tr th {\n",
       "        vertical-align: top;\n",
       "    }\n",
       "</style>\n",
       "<table border=\"1\" class=\"dataframe\">\n",
       "  <thead>\n",
       "    <tr style=\"text-align: right;\">\n",
       "      <th></th>\n",
       "      <th>Category</th>\n",
       "      <th>Species</th>\n",
       "      <th>County</th>\n",
       "      <th>Waterbody</th>\n",
       "      <th>Date/Time</th>\n",
       "      <th>Year</th>\n",
       "      <th>Weight (lbs)</th>\n",
       "      <th>Length (in)</th>\n",
       "      <th>Angler</th>\n",
       "      <th>Angler's City</th>\n",
       "      <th>Method</th>\n",
       "      <th>Bait</th>\n",
       "    </tr>\n",
       "  </thead>\n",
       "  <tbody>\n",
       "    <tr>\n",
       "      <th>0</th>\n",
       "      <td>Catch and Keep</td>\n",
       "      <td>COHO SALMON Michigan</td>\n",
       "      <td>NaN</td>\n",
       "      <td>Lake Michigan</td>\n",
       "      <td>07/11/2014 10:00:00 AM</td>\n",
       "      <td>2014</td>\n",
       "      <td>13.25</td>\n",
       "      <td>31.0</td>\n",
       "      <td>DAVID REVORE</td>\n",
       "      <td>MARSHALL</td>\n",
       "      <td>Trolling</td>\n",
       "      <td>Meat Rig</td>\n",
       "    </tr>\n",
       "    <tr>\n",
       "      <th>1</th>\n",
       "      <td>Catch and Keep</td>\n",
       "      <td>LAKE TROUT</td>\n",
       "      <td>NaN</td>\n",
       "      <td>Lake Michigan</td>\n",
       "      <td>06/26/2014 07:30:00 AM</td>\n",
       "      <td>2014</td>\n",
       "      <td>32.06</td>\n",
       "      <td>45.0</td>\n",
       "      <td>FRANK JOSEPH BAKER</td>\n",
       "      <td>MANISTEE</td>\n",
       "      <td>Trolling</td>\n",
       "      <td>Spoon</td>\n",
       "    </tr>\n",
       "    <tr>\n",
       "      <th>2</th>\n",
       "      <td>Catch and Keep</td>\n",
       "      <td>LAKE TROUT</td>\n",
       "      <td>NaN</td>\n",
       "      <td>Lake Michigan</td>\n",
       "      <td>07/04/2014 09:00:00 AM</td>\n",
       "      <td>2014</td>\n",
       "      <td>20.56</td>\n",
       "      <td>34.5</td>\n",
       "      <td>JASON HENRY PHELPS</td>\n",
       "      <td>SPARTA</td>\n",
       "      <td>Trolling</td>\n",
       "      <td>Moo Moo</td>\n",
       "    </tr>\n",
       "    <tr>\n",
       "      <th>3</th>\n",
       "      <td>Catch and Keep</td>\n",
       "      <td>LAKE TROUT</td>\n",
       "      <td>NaN</td>\n",
       "      <td>Lake Michigan</td>\n",
       "      <td>06/21/2014 10:15:00 AM</td>\n",
       "      <td>2014</td>\n",
       "      <td>20.19</td>\n",
       "      <td>38.0</td>\n",
       "      <td>JASON HENRY PHELPS</td>\n",
       "      <td>SPARTA</td>\n",
       "      <td>Trolling</td>\n",
       "      <td>Moo Moo</td>\n",
       "    </tr>\n",
       "    <tr>\n",
       "      <th>4</th>\n",
       "      <td>Catch and Keep</td>\n",
       "      <td>RAINBOW TROUT</td>\n",
       "      <td>NaN</td>\n",
       "      <td>Lake Michigan</td>\n",
       "      <td>06/21/2014 09:30:00 AM</td>\n",
       "      <td>2014</td>\n",
       "      <td>14.31</td>\n",
       "      <td>32.0</td>\n",
       "      <td>TERESA MARIE PHELPS</td>\n",
       "      <td>SPARTA</td>\n",
       "      <td>Trolling</td>\n",
       "      <td>Red Devil</td>\n",
       "    </tr>\n",
       "  </tbody>\n",
       "</table>\n",
       "</div>"
      ],
      "text/plain": [
       "         Category               Species County      Waterbody  \\\n",
       "0  Catch and Keep  COHO SALMON Michigan    NaN  Lake Michigan   \n",
       "1  Catch and Keep            LAKE TROUT    NaN  Lake Michigan   \n",
       "2  Catch and Keep            LAKE TROUT    NaN  Lake Michigan   \n",
       "3  Catch and Keep            LAKE TROUT    NaN  Lake Michigan   \n",
       "4  Catch and Keep         RAINBOW TROUT    NaN  Lake Michigan   \n",
       "\n",
       "                Date/Time  Year  Weight (lbs)  Length (in)  \\\n",
       "0  07/11/2014 10:00:00 AM  2014         13.25         31.0   \n",
       "1  06/26/2014 07:30:00 AM  2014         32.06         45.0   \n",
       "2  07/04/2014 09:00:00 AM  2014         20.56         34.5   \n",
       "3  06/21/2014 10:15:00 AM  2014         20.19         38.0   \n",
       "4  06/21/2014 09:30:00 AM  2014         14.31         32.0   \n",
       "\n",
       "                Angler Angler's City    Method       Bait  \n",
       "0         DAVID REVORE      MARSHALL  Trolling   Meat Rig  \n",
       "1   FRANK JOSEPH BAKER      MANISTEE  Trolling      Spoon  \n",
       "2   JASON HENRY PHELPS        SPARTA  Trolling    Moo Moo  \n",
       "3   JASON HENRY PHELPS        SPARTA  Trolling    Moo Moo  \n",
       "4  TERESA MARIE PHELPS        SPARTA  Trolling  Red Devil  "
      ]
     },
     "execution_count": 60,
     "metadata": {},
     "output_type": "execute_result"
    }
   ],
   "source": [
    "# Quick inspection of dataset\n",
    "df.head()"
   ]
  },
  {
   "cell_type": "code",
   "execution_count": 61,
   "metadata": {},
   "outputs": [
    {
     "data": {
      "text/plain": [
       "(16094, 12)"
      ]
     },
     "execution_count": 61,
     "metadata": {},
     "output_type": "execute_result"
    }
   ],
   "source": [
    "df.shape"
   ]
  },
  {
   "cell_type": "code",
   "execution_count": 62,
   "metadata": {},
   "outputs": [
    {
     "name": "stdout",
     "output_type": "stream",
     "text": [
      "<class 'pandas.core.frame.DataFrame'>\n",
      "RangeIndex: 16094 entries, 0 to 16093\n",
      "Data columns (total 12 columns):\n",
      "Category         16094 non-null object\n",
      "Species          16094 non-null object\n",
      "County           15982 non-null object\n",
      "Waterbody        16094 non-null object\n",
      "Date/Time        16094 non-null object\n",
      "Year             16094 non-null int64\n",
      "Weight (lbs)     6179 non-null float64\n",
      "Length (in)      15813 non-null float64\n",
      "Angler           16094 non-null object\n",
      "Angler's City    16094 non-null object\n",
      "Method           16050 non-null object\n",
      "Bait             15718 non-null object\n",
      "dtypes: float64(2), int64(1), object(9)\n",
      "memory usage: 1.5+ MB\n"
     ]
    }
   ],
   "source": [
    "df.info()"
   ]
  },
  {
   "cell_type": "code",
   "execution_count": 63,
   "metadata": {},
   "outputs": [
    {
     "data": {
      "text/plain": [
       "False    16094\n",
       "Name: Category, dtype: int64"
      ]
     },
     "execution_count": 63,
     "metadata": {},
     "output_type": "execute_result"
    }
   ],
   "source": [
    "df.Category.isnull().value_counts()"
   ]
  },
  {
   "cell_type": "code",
   "execution_count": 64,
   "metadata": {},
   "outputs": [
    {
     "data": {
      "text/plain": [
       "False    16094\n",
       "Name: Species, dtype: int64"
      ]
     },
     "execution_count": 64,
     "metadata": {},
     "output_type": "execute_result"
    }
   ],
   "source": [
    "df.Species.isnull().value_counts()"
   ]
  },
  {
   "cell_type": "code",
   "execution_count": 65,
   "metadata": {},
   "outputs": [
    {
     "data": {
      "text/plain": [
       "False    15982\n",
       "True       112\n",
       "Name: County, dtype: int64"
      ]
     },
     "execution_count": 65,
     "metadata": {},
     "output_type": "execute_result"
    }
   ],
   "source": [
    "df.County.isnull().value_counts()"
   ]
  },
  {
   "cell_type": "code",
   "execution_count": 66,
   "metadata": {},
   "outputs": [
    {
     "data": {
      "text/plain": [
       "False    16094\n",
       "Name: Waterbody, dtype: int64"
      ]
     },
     "execution_count": 66,
     "metadata": {},
     "output_type": "execute_result"
    }
   ],
   "source": [
    "df.Waterbody.isnull().value_counts()"
   ]
  },
  {
   "cell_type": "code",
   "execution_count": 67,
   "metadata": {},
   "outputs": [
    {
     "data": {
      "text/plain": [
       "False    16094\n",
       "Name: Date/Time, dtype: int64"
      ]
     },
     "execution_count": 67,
     "metadata": {},
     "output_type": "execute_result"
    }
   ],
   "source": [
    "df['Date/Time'].isnull().value_counts()"
   ]
  },
  {
   "cell_type": "code",
   "execution_count": 68,
   "metadata": {},
   "outputs": [
    {
     "data": {
      "text/plain": [
       "False    16094\n",
       "Name: Year, dtype: int64"
      ]
     },
     "execution_count": 68,
     "metadata": {},
     "output_type": "execute_result"
    }
   ],
   "source": [
    "df.Year.isnull().value_counts()"
   ]
  },
  {
   "cell_type": "code",
   "execution_count": 69,
   "metadata": {},
   "outputs": [
    {
     "data": {
      "text/plain": [
       "True     9915\n",
       "False    6179\n",
       "Name: Weight (lbs), dtype: int64"
      ]
     },
     "execution_count": 69,
     "metadata": {},
     "output_type": "execute_result"
    }
   ],
   "source": [
    "df['Weight (lbs)'].isnull().value_counts()"
   ]
  },
  {
   "cell_type": "code",
   "execution_count": 70,
   "metadata": {},
   "outputs": [
    {
     "data": {
      "text/plain": [
       "False    15813\n",
       "True       281\n",
       "Name: Length (in), dtype: int64"
      ]
     },
     "execution_count": 70,
     "metadata": {},
     "output_type": "execute_result"
    }
   ],
   "source": [
    "df['Length (in)'].isnull().value_counts()"
   ]
  },
  {
   "cell_type": "code",
   "execution_count": 71,
   "metadata": {},
   "outputs": [
    {
     "data": {
      "text/plain": [
       "False    16094\n",
       "Name: Angler, dtype: int64"
      ]
     },
     "execution_count": 71,
     "metadata": {},
     "output_type": "execute_result"
    }
   ],
   "source": [
    "df.Angler.isnull().value_counts()"
   ]
  },
  {
   "cell_type": "code",
   "execution_count": 72,
   "metadata": {},
   "outputs": [
    {
     "data": {
      "text/plain": [
       "False    16094\n",
       "Name: Angler's City, dtype: int64"
      ]
     },
     "execution_count": 72,
     "metadata": {},
     "output_type": "execute_result"
    }
   ],
   "source": [
    "df['Angler\\'s City'].isnull().value_counts()"
   ]
  },
  {
   "cell_type": "code",
   "execution_count": 73,
   "metadata": {},
   "outputs": [
    {
     "data": {
      "text/plain": [
       "False    16050\n",
       "True        44\n",
       "Name: Method, dtype: int64"
      ]
     },
     "execution_count": 73,
     "metadata": {},
     "output_type": "execute_result"
    }
   ],
   "source": [
    "df.Method.isnull().value_counts()"
   ]
  },
  {
   "cell_type": "code",
   "execution_count": 74,
   "metadata": {},
   "outputs": [
    {
     "data": {
      "text/plain": [
       "False    15718\n",
       "True       376\n",
       "Name: Bait, dtype: int64"
      ]
     },
     "execution_count": 74,
     "metadata": {},
     "output_type": "execute_result"
    }
   ],
   "source": [
    "df.Bait.isnull().value_counts()"
   ]
  },
  {
   "cell_type": "code",
   "execution_count": 116,
   "metadata": {},
   "outputs": [
    {
     "data": {
      "text/html": [
       "<div>\n",
       "<style>\n",
       "    .dataframe thead tr:only-child th {\n",
       "        text-align: right;\n",
       "    }\n",
       "\n",
       "    .dataframe thead th {\n",
       "        text-align: left;\n",
       "    }\n",
       "\n",
       "    .dataframe tbody tr th {\n",
       "        vertical-align: top;\n",
       "    }\n",
       "</style>\n",
       "<table border=\"1\" class=\"dataframe\">\n",
       "  <thead>\n",
       "    <tr style=\"text-align: right;\">\n",
       "      <th></th>\n",
       "      <th>Waterbody</th>\n",
       "      <th>Counts</th>\n",
       "    </tr>\n",
       "  </thead>\n",
       "  <tbody>\n",
       "    <tr>\n",
       "      <th>0</th>\n",
       "      <td>40th Street Pond</td>\n",
       "      <td>1</td>\n",
       "    </tr>\n",
       "    <tr>\n",
       "      <th>1</th>\n",
       "      <td>Acker Lake</td>\n",
       "      <td>3</td>\n",
       "    </tr>\n",
       "    <tr>\n",
       "      <th>2</th>\n",
       "      <td>Ackley Lake</td>\n",
       "      <td>1</td>\n",
       "    </tr>\n",
       "    <tr>\n",
       "      <th>3</th>\n",
       "      <td>Adams, Lake</td>\n",
       "      <td>1</td>\n",
       "    </tr>\n",
       "    <tr>\n",
       "      <th>4</th>\n",
       "      <td>Addis Lakes (Ponds)</td>\n",
       "      <td>1</td>\n",
       "    </tr>\n",
       "  </tbody>\n",
       "</table>\n",
       "</div>"
      ],
      "text/plain": [
       "             Waterbody  Counts\n",
       "0     40th Street Pond       1\n",
       "1           Acker Lake       3\n",
       "2          Ackley Lake       1\n",
       "3          Adams, Lake       1\n",
       "4  Addis Lakes (Ponds)       1"
      ]
     },
     "execution_count": 116,
     "metadata": {},
     "output_type": "execute_result"
    }
   ],
   "source": [
    "fish_by_lake = df.groupby('Waterbody').Waterbody.count()\n",
    "fish_by_lake = pd.DataFrame(fish_by_lake)\n",
    "fish_by_lake.columns = ['Counts']\n",
    "fish_by_lake.reset_index(inplace = True)\n",
    "fish_by_lake.head()"
   ]
  },
  {
   "cell_type": "code",
   "execution_count": 131,
   "metadata": {},
   "outputs": [
    {
     "data": {
      "text/html": [
       "<div>\n",
       "<style>\n",
       "    .dataframe thead tr:only-child th {\n",
       "        text-align: right;\n",
       "    }\n",
       "\n",
       "    .dataframe thead th {\n",
       "        text-align: left;\n",
       "    }\n",
       "\n",
       "    .dataframe tbody tr th {\n",
       "        vertical-align: top;\n",
       "    }\n",
       "</style>\n",
       "<table border=\"1\" class=\"dataframe\">\n",
       "  <thead>\n",
       "    <tr style=\"text-align: right;\">\n",
       "      <th></th>\n",
       "      <th>Species</th>\n",
       "      <th>Counts</th>\n",
       "    </tr>\n",
       "  </thead>\n",
       "  <tbody>\n",
       "    <tr>\n",
       "      <th>6</th>\n",
       "      <td>BLUEGILL</td>\n",
       "      <td>1374</td>\n",
       "    </tr>\n",
       "    <tr>\n",
       "      <th>19</th>\n",
       "      <td>FRESHWATER DRUM</td>\n",
       "      <td>1314</td>\n",
       "    </tr>\n",
       "    <tr>\n",
       "      <th>43</th>\n",
       "      <td>SMALLMOUTH BASS</td>\n",
       "      <td>1189</td>\n",
       "    </tr>\n",
       "    <tr>\n",
       "      <th>41</th>\n",
       "      <td>ROCK BASS</td>\n",
       "      <td>1186</td>\n",
       "    </tr>\n",
       "    <tr>\n",
       "      <th>13</th>\n",
       "      <td>CHANNEL CATFISH</td>\n",
       "      <td>960</td>\n",
       "    </tr>\n",
       "  </tbody>\n",
       "</table>\n",
       "</div>"
      ],
      "text/plain": [
       "            Species  Counts\n",
       "6          BLUEGILL    1374\n",
       "19  FRESHWATER DRUM    1314\n",
       "43  SMALLMOUTH BASS    1189\n",
       "41        ROCK BASS    1186\n",
       "13  CHANNEL CATFISH     960"
      ]
     },
     "execution_count": 131,
     "metadata": {},
     "output_type": "execute_result"
    }
   ],
   "source": [
    "fish_by_species = df.groupby('Species').Species.count()\n",
    "fish_by_species = pd.DataFrame(fish_by_species)\n",
    "fish_by_species.columns = ['Counts']\n",
    "fish_by_species.reset_index(inplace = True)\n",
    "fish_by_species = fish_by_species.sort_values('Counts', ascending= False)\n",
    "fish_by_species.head()"
   ]
  },
  {
   "cell_type": "code",
   "execution_count": 133,
   "metadata": {},
   "outputs": [
    {
     "data": {
      "image/png": "[encoded data removed]",
      "text/plain": [
       "<matplotlib.figure.Figure at 0x11bc25490>"
      ]
     },
     "metadata": {},
     "output_type": "display_data"
    }
   ],
   "source": [
    "sns.barplot(x = 'Species', y = 'Counts', data = fish_by_species)\n",
    "plt.title('Number of Fish Caught by Species')\n",
    "plt.ylabel('Number of Fish Caught')\n",
    "plt.xlabel('Species')\n",
    "plt.xticks(rotation = 90)\n",
    "plt.show()"
   ]
  },
  {
   "cell_type": "markdown",
   "metadata": {},
   "source": [
    "### In progress..."
   ]
  },
  {
   "cell_type": "code",
   "execution_count": null,
   "metadata": {},
   "outputs": [],
   "source": []
  },
  {
   "cell_type": "code",
   "execution_count": null,
   "metadata": {
    "collapsed": true
   },
   "outputs": [],
   "source": []
  }
 ],
 "metadata": {
  "kernelspec": {
   "display_name": "Python [default]",
   "language": "python",
   "name": "python2"
  },
  "language_info": {
   "codemirror_mode": {
    "name": "ipython",
    "version": 2
   },
   "file_extension": ".py",
   "mimetype": "text/x-python",
   "name": "python",
   "nbconvert_exporter": "python",
   "pygments_lexer": "ipython2",
   "version": "2.7.13"
  }
 },
 "nbformat": 4,
 "nbformat_minor": 2
}
